{
 "cells": [
  {
   "cell_type": "code",
   "execution_count": 64,
   "id": "87b9534b",
   "metadata": {},
   "outputs": [
    {
     "name": "stdout",
     "output_type": "stream",
     "text": [
      "The autoreload extension is already loaded. To reload it, use:\n",
      "  %reload_ext autoreload\n"
     ]
    }
   ],
   "source": [
    "import time\n",
    "import numpy as np\n",
    "import h5py\n",
    "import matplotlib.pyplot as plt\n",
    "import scipy\n",
    "from PIL import Image\n",
    "from scipy import ndimage\n",
    "\n",
    "%matplotlib inline\n",
    "plt.rcParams['figure.figsize'] = (5.0, 4.0) # set default size of plots\n",
    "plt.rcParams['image.interpolation'] = 'nearest'\n",
    "plt.rcParams['image.cmap'] = 'gray'\n",
    "\n",
    "%load_ext autoreload\n",
    "%autoreload 2\n",
    "\n",
    "np.random.seed(1)"
   ]
  },
  {
   "cell_type": "code",
   "execution_count": 65,
   "id": "8263c690",
   "metadata": {},
   "outputs": [],
   "source": [
    "def load_data(path):\n",
    "    train_dataset = h5py.File(path+'/train_catvnoncat.h5', \"r\")\n",
    "    train_set_x_orig = np.array(train_dataset[\"train_set_x\"][:]) # your train set features\n",
    "    train_set_y_orig = np.array(train_dataset[\"train_set_y\"][:]) # your train set labels\n",
    "\n",
    "    test_dataset = h5py.File(path+'/test_catvnoncat.h5', \"r\")\n",
    "    test_set_x_orig = np.array(test_dataset[\"test_set_x\"][:]) # your test set features\n",
    "    test_set_y_orig = np.array(test_dataset[\"test_set_y\"][:]) # your test set labels\n",
    "\n",
    "    classes = np.array(test_dataset[\"list_classes\"][:]) # the list of classes\n",
    "    \n",
    "    train_set_y_orig = train_set_y_orig.reshape((1, train_set_y_orig.shape[0]))\n",
    "    test_set_y_orig = test_set_y_orig.reshape((1, test_set_y_orig.shape[0]))\n",
    "    \n",
    "    return train_set_x_orig, train_set_y_orig, test_set_x_orig, test_set_y_orig, classes"
   ]
  },
  {
   "cell_type": "code",
   "execution_count": 66,
   "id": "cf36eea8",
   "metadata": {},
   "outputs": [],
   "source": [
    "train_x_orig, train_y, test_x_orig, test_y, classes = load_data('C:\\\\Users\\\\bayra\\\\Desktop\\\\dataset')"
   ]
  },
  {
   "cell_type": "code",
   "execution_count": 67,
   "id": "7394b1c4",
   "metadata": {},
   "outputs": [],
   "source": [
    "# Reshape the training and test examples \n",
    "train_x_flatten = train_x_orig.reshape(train_x_orig.shape[0], -1).T\n",
    "test_x_flatten = test_x_orig.reshape(test_x_orig.shape[0], -1).T\n",
    "\n",
    "# Standardize data to have feature values between 0 and 1.\n",
    "train_x = train_x_flatten/255.\n",
    "test_x = test_x_flatten/255."
   ]
  },
  {
   "cell_type": "code",
   "execution_count": 68,
   "id": "ab38185f",
   "metadata": {},
   "outputs": [],
   "source": [
    "n_x = 12288\n",
    "n_h = 7\n",
    "n_y = 1\n",
    "layers_dims = (n_x, n_h, n_y)"
   ]
  },
  {
   "cell_type": "code",
   "execution_count": 69,
   "id": "5412f3e0",
   "metadata": {},
   "outputs": [],
   "source": [
    "def sigmoid(x):\n",
    "    return 1 / (1+np.exp(-x))"
   ]
  },
  {
   "cell_type": "code",
   "execution_count": 70,
   "id": "386e7e67",
   "metadata": {},
   "outputs": [],
   "source": [
    "def deriv_sigmoid(x):\n",
    "    return x * (1 - x)"
   ]
  },
  {
   "cell_type": "code",
   "execution_count": 71,
   "id": "65f7f00b",
   "metadata": {},
   "outputs": [],
   "source": [
    "def RELU(x):\n",
    "    return np.maximum(0, x)"
   ]
  },
  {
   "cell_type": "code",
   "execution_count": 72,
   "id": "f90efce4",
   "metadata": {},
   "outputs": [],
   "source": [
    "def deriv_RELU(x):\n",
    "    return x > 0"
   ]
  },
  {
   "cell_type": "code",
   "execution_count": 73,
   "id": "31697e8c",
   "metadata": {},
   "outputs": [],
   "source": [
    "def initialize_parameters_deep(layer_dims):\n",
    "    np.random.seed(1)\n",
    "    parameters = {}\n",
    "\n",
    "    parameters[\"W1\"] =  np.random.randn(layer_dims[1], layer_dims[0]) * 0.01\n",
    "    parameters[\"b1\"] =  np.random.randn(layer_dims[1], 1)  * 0.01\n",
    "    parameters[\"W2\"] =  np.random.randn(layer_dims[2], layer_dims[1]) * 0.01 \n",
    "    parameters[\"b2\"] =  np.random.randn(layer_dims[2], 1) * 0.01\n",
    "\n",
    "    return parameters"
   ]
  },
  {
   "cell_type": "code",
   "execution_count": 74,
   "id": "964b58a2",
   "metadata": {},
   "outputs": [],
   "source": [
    "def linear_activation_forward(X,parameters):\n",
    "    cache = {}\n",
    "    \n",
    "    W1 = parameters[\"W1\"]\n",
    "    b1 = parameters[\"b1\"]\n",
    "    W2 = parameters[\"W2\"]\n",
    "    b2 = parameters[\"b2\"]\n",
    "    \n",
    "    Z1 = np.dot(W1, X) + b1\n",
    "    A1 = RELU(Z1)\n",
    "    Z2 = np.dot(W2, A1) + b2\n",
    "    AL = sigmoid(Z2)\n",
    "\n",
    "    cache[\"Z1\"] = Z1\n",
    "    cache[\"A1\"] = A1\n",
    "    cache[\"Z2\"] = Z2\n",
    "    cache[\"AL\"] = AL\n",
    "    \n",
    "    return AL, cache"
   ]
  },
  {
   "cell_type": "code",
   "execution_count": 75,
   "id": "cf9fc9e2",
   "metadata": {},
   "outputs": [],
   "source": [
    "def compute_cost(AL, Y):\n",
    "    m = Y.shape[1]\n",
    "    \n",
    "    cost = -(1 / m) * np.sum(Y * np.log(AL) + (1 - Y) * np.log(1 - AL))\n",
    "    cost = np.squeeze(cost)\n",
    "    \n",
    "    return cost"
   ]
  },
  {
   "cell_type": "code",
   "execution_count": 76,
   "id": "74145b1e",
   "metadata": {},
   "outputs": [],
   "source": [
    "def linear_activation_backward(parameters, cache, X, Y):\n",
    "    grads = {}\n",
    "    m = Y.shape[1]\n",
    "    \n",
    "    W1 = parameters[\"W1\"]\n",
    "    W2 = parameters[\"W2\"]\n",
    "    A1 = cache[\"A1\"]\n",
    "    A2 = cache[\"AL\"]\n",
    "    Z1 = cache[\"Z1\"]\n",
    "    \n",
    "    dZ2 = A2-Y\n",
    "    dW2 = 1 / m * np.dot(dZ2, A1.T)\n",
    "    db2 = 1 / m * np.sum(dZ2, axis = 1, keepdims=True)\n",
    "    dZ1 = np.dot(W2.T, dZ2) * deriv_RELU(Z1)\n",
    "    dW1 = 1 / m *np.dot(dZ1, X.T)\n",
    "    db1 = 1 /m * np.sum(dZ1, axis = 1, keepdims=True)\n",
    "    \n",
    "    grads[\"dW1\"] = dW1\n",
    "    grads[\"db1\"] = db1\n",
    "    grads[\"dW2\"] = dW2\n",
    "    grads[\"db2\"] = db2\n",
    "    \n",
    "    return grads"
   ]
  },
  {
   "cell_type": "code",
   "execution_count": 77,
   "id": "b1b3ddaf",
   "metadata": {},
   "outputs": [],
   "source": [
    "def update_parameters(parameters, grads, learning_rate):\n",
    "    \n",
    "    W1 = parameters[\"W1\"]\n",
    "    W2 = parameters[\"W2\"]\n",
    "    b1 = parameters[\"b1\"]\n",
    "    b2 = parameters[\"b2\"]\n",
    "    \n",
    "    dW1 = grads[\"dW1\"]\n",
    "    db1 = grads[\"db1\"]\n",
    "    dW2 = grads[\"dW2\"]\n",
    "    db2 = grads[\"db2\"]\n",
    "    \n",
    "    parameters[\"W1\"] = W1 - dW1 * learning_rate\n",
    "    parameters[\"b1\"] = b1 - db1 * learning_rate\n",
    "    parameters[\"W2\"] = W2 - dW2 * learning_rate\n",
    "    parameters[\"b2\"] = b2 - db2 * learning_rate\n",
    "    \n",
    "    return parameters"
   ]
  },
  {
   "cell_type": "code",
   "execution_count": 78,
   "id": "ed501e39",
   "metadata": {},
   "outputs": [],
   "source": [
    "def predict(X, Y, parameters):\n",
    "    \n",
    "    AL ,cache = linear_activation_forward(X,parameters)\n",
    "    \n",
    "    for i in range(AL.shape[1]):\n",
    "        if AL[0,i] >= 0.5:\n",
    "            AL[0, i] = 1\n",
    "        else: \n",
    "            AL[0, i] = 0\n",
    "    \n",
    "    \n",
    "    accurate_predictions = 0\n",
    "    \n",
    "    for i in range(AL.shape[1]):\n",
    "        if AL[0, i] == Y[0, i]:\n",
    "            accurate_predictions += 1\n",
    "            \n",
    "    accuracy = (accurate_predictions * 100)/Y.shape[1]\n",
    "    \n",
    "    return accuracy"
   ]
  },
  {
   "cell_type": "code",
   "execution_count": 79,
   "id": "7fedd952",
   "metadata": {},
   "outputs": [],
   "source": [
    "def two_layer_model(X, Y, layers_dims, learning_rate = 0.0075, num_iterations = 3000):\n",
    "    \n",
    "    (n_x, n_h, n_y) = layers_dims\n",
    "    costs = []\n",
    "    iterations = [i for i in range(3000) if i%100== 0]\n",
    "    \n",
    "    parameters = initialize_parameters_deep(layers_dims)\n",
    "    \n",
    "    for i in range(num_iterations):\n",
    "        \n",
    "        AL, cache = linear_activation_forward(X,parameters)\n",
    "        \n",
    "        cost = compute_cost(AL, Y)\n",
    "        \n",
    "        grads = linear_activation_backward(parameters, cache, X, Y)\n",
    "        \n",
    "        parameters = update_parameters(parameters, grads, learning_rate)\n",
    "        \n",
    "        \n",
    "        if i % 100 == 0:\n",
    "            print(\"Cost after iteration {}: {}\".format(i, np.squeeze(cost)))\n",
    "        if i % 100 == 0:\n",
    "            costs.append(cost)\n",
    "       \n",
    "    return parameters, costs ,iterations"
   ]
  },
  {
   "cell_type": "code",
   "execution_count": 80,
   "id": "f319ccdd",
   "metadata": {},
   "outputs": [],
   "source": [
    "def main():\n",
    "    \n",
    "    parameters, costs, iterations = two_layer_model(train_x, train_y, layers_dims, learning_rate = 0.0075, num_iterations = 3000)\n",
    "    \n",
    "    accuracy = predict(test_x, test_y, parameters)\n",
    "    print(f\"Accuracy: {accuracy}%\")\n",
    "    \n",
    "    plt.plot(iterations,costs)\n",
    "    plt.xlabel('Iterations')\n",
    "    plt.ylabel('Costs')\n",
    "    plt.title('Cost Graph')\n",
    "    plt.show()\n",
    "    \n",
    "    return parameters"
   ]
  },
  {
   "cell_type": "code",
   "execution_count": 81,
   "id": "7290108e",
   "metadata": {},
   "outputs": [
    {
     "name": "stdout",
     "output_type": "stream",
     "text": [
      "Cost after iteration 0: 0.6948558869316627\n",
      "Cost after iteration 100: 0.6475543118707168\n",
      "Cost after iteration 200: 0.6354635432195989\n",
      "Cost after iteration 300: 0.6084781510864907\n",
      "Cost after iteration 400: 0.5687536547908734\n",
      "Cost after iteration 500: 0.5241385998103425\n",
      "Cost after iteration 600: 0.4813053518578692\n",
      "Cost after iteration 700: 0.43564949116183266\n",
      "Cost after iteration 800: 0.3850252245643457\n",
      "Cost after iteration 900: 0.407249438041115\n",
      "Cost after iteration 1000: 0.35701586921864686\n",
      "Cost after iteration 1100: 0.30658209947846765\n",
      "Cost after iteration 1200: 0.26675711469903396\n",
      "Cost after iteration 1300: 0.21728118634679475\n",
      "Cost after iteration 1400: 0.25556810086614734\n",
      "Cost after iteration 1500: 0.17685283394234955\n",
      "Cost after iteration 1600: 0.14228868700024153\n",
      "Cost after iteration 1700: 0.10398219194097094\n",
      "Cost after iteration 1800: 0.09108319991279405\n",
      "Cost after iteration 1900: 0.0744236675724208\n",
      "Cost after iteration 2000: 0.06411714230540524\n",
      "Cost after iteration 2100: 0.05603839842273554\n",
      "Cost after iteration 2200: 0.04892752105629717\n",
      "Cost after iteration 2300: 0.04353760805592948\n",
      "Cost after iteration 2400: 0.038848869990833396\n",
      "Cost after iteration 2500: 0.03489693749373599\n",
      "Cost after iteration 2600: 0.03160878062544985\n",
      "Cost after iteration 2700: 0.028747271046559025\n",
      "Cost after iteration 2800: 0.026282930175786357\n",
      "Cost after iteration 2900: 0.024133487721553017\n",
      "Accuracy: 72.0%\n"
     ]
    },
    {
     "data": {
      "image/png": "[encoded data removed]",
      "text/plain": [
       "<Figure size 360x288 with 1 Axes>"
      ]
     },
     "metadata": {
      "needs_background": "light"
     },
     "output_type": "display_data"
    }
   ],
   "source": [
    "parameters = main()"
   ]
  },
  {
   "cell_type": "code",
   "execution_count": 82,
   "id": "0eb02d79",
   "metadata": {},
   "outputs": [],
   "source": [
    "    def test(X, Y, parameters, m):\n",
    "        \n",
    "        AL ,cache = linear_activation_forward(X,parameters)\n",
    "        \n",
    "        for i in range(AL.shape[1]):        # This part is only to see the predictions of the Neural Network\n",
    "            if AL[0,i] >= 0.5:\n",
    "                AL[0, i] = 1\n",
    "            else: \n",
    "                AL[0, i] = 0\n",
    "\n",
    "        print(\"Prediction: \" + classes[int(AL[0,m])].decode(\"utf-8\") )\n",
    "        print(\"Label: \" +classes[int(Y[0, m])].decode(\"utf-8\"))\n",
    "        plt.imshow(test_x_orig[m])\n",
    "        "
   ]
  },
  {
   "cell_type": "code",
   "execution_count": 83,
   "id": "a61bff7b",
   "metadata": {
    "scrolled": true
   },
   "outputs": [
    {
     "name": "stdout",
     "output_type": "stream",
     "text": [
      "Prediction: cat\n",
      "Label: cat\n"
     ]
    },
    {
     "data": {
      "image/png": "[encoded data removed]",
      "text/plain": [
       "<Figure size 360x288 with 1 Axes>"
      ]
     },
     "metadata": {
      "needs_background": "light"
     },
     "output_type": "display_data"
    }
   ],
   "source": [
    "test(test_x,test_y,parameters,31)"
   ]
  },
  {
   "cell_type": "code",
   "execution_count": null,
   "id": "709a20bf",
   "metadata": {},
   "outputs": [],
   "source": []
  }
 ],
 "metadata": {
  "kernelspec": {
   "display_name": "Python 3 (ipykernel)",
   "language": "python",
   "name": "python3"
  },
  "language_info": {
   "codemirror_mode": {
    "name": "ipython",
    "version": 3
   },
   "file_extension": ".py",
   "mimetype": "text/x-python",
   "name": "python",
   "nbconvert_exporter": "python",
   "pygments_lexer": "ipython3",
   "version": "3.9.7"
  }
 },
 "nbformat": 4,
 "nbformat_minor": 5
}
